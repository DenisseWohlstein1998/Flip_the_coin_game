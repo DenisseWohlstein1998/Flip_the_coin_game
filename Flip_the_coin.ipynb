{
  "cells": [
    {
      "cell_type": "markdown",
      "id": "608bca7a",
      "metadata": {
        "id": "608bca7a"
      },
      "source": [
        "# <h1>Decision Making Under Uncertainty</h1>\n",
        "<br>\n",
        "<font size=\"+1\">\n",
        "    <ul>\n",
        "        <li>Consider the good fortune of finding a coin-flipping game that pays, for every dollar wagered, $\\$1$ if the coin lands heads and takes $\\$1$ if the coin lands tails.</li>\n",
        "        <br>\n",
        "        <li>The game has an unlimited number of trys over some fixed horizon.</li>\n",
        "        <br>\n",
        "        <li>If you choose to bet, the minimum bet size is $\\$0.50$ and there is no maximum bet size (except for your total wealth as there is no betting on margin).</li>\n",
        "        <br>\n",
        "        <li>We know, with certainty, that the probability of a heads is $60\\%$, that is, the coin is <b>biased</b>.</li>\n",
        "        <br>\n",
        "        <ul>\n",
        "            <li><i>As an interesting aside, coin flipping is actually deterministic and not random.</i></li>\n",
        "            <br>\n",
        "            <li><i>For more on this, see <a href=\"https://www.youtube.com/watch?v=AYnJv68T3MM\">How random is a coin toss?</a> and <a href=\"https://statweb.stanford.edu/~cgates/PERSI/papers/dyn_coin_07.pdf\">Dynamical Bias in the Coin Toss</a>.</i></li>\n",
        "            <br>\n",
        "        </ul>\n",
        "        <font color=\"dodgerblue\"><li style=\"color:dodgerblue\"><b>Should you play this game?</b></li>\n",
        "        <br>\n",
        "        <ul>\n",
        "            <font color=\"dodgerblue\"><li style=\"color:dodgerblue\"><b>If so, how should you play this game?</b></li></font>\n",
        "            <br>\n",
        "            <font color=\"dodgerblue\"><li style=\"color:dodgerblue\"><b>If not, why not?</b></li></font>\n",
        "            <br>\n",
        "        </ul></font>\n",
        "    </ul>\n",
        "</font>\n",
        "\n",
        "$\\square$"
      ]
    },
    {
      "cell_type": "markdown",
      "id": "dc77b9cb",
      "metadata": {
        "id": "dc77b9cb"
      },
      "source": [
        "<br>\n",
        "<font size=\"+1\">\n",
        "    <ul>\n",
        "        <li>There are a few things we need to define in order to simulate a single play of this game.</li>\n",
        "        <br>\n",
        "        <ul>\n",
        "            <li>The first is the initial wealth of the player, that is, how much money they are <i>able</i> to wager. </li>\n",
        "            <br>\n",
        "            <ul>\n",
        "                <li>They don't necessarily have to wager their entire wealth.</li>\n",
        "                <br>\n",
        "                <li>This introduces another variable, that is, how much the player is <i>willing</i> to wager.</li>\n",
        "                <br>\n",
        "            </ul>\n",
        "            <li>Next, we have to define the parameters (i.e. rules) of the betting game.</li>\n",
        "            <br>\n",
        "            <ul>\n",
        "                <li>We need to define the outcomes of the coin flip and their associated probabilities.</li>\n",
        "                <br>\n",
        "                <li>We need to define the payoff of the gamble depending on the outcome of the coin flip.</li>\n",
        "                <br>\n",
        "            </ul>\n",
        "            <li>Finally, we have to define the player's resulting wealth due to the outcome of the game.</li>\n",
        "            <br>\n",
        "        </ul>\n",
        "    </ul>\n",
        "</font>"
      ]
    },
    {
      "cell_type": "code",
      "execution_count": null,
      "id": "81ad2e3c",
      "metadata": {
        "colab": {
          "base_uri": "https://localhost:8080/"
        },
        "id": "81ad2e3c",
        "outputId": "38c6355a-01b4-4382-c147-1b3cb4345307"
      },
      "outputs": [
        {
          "output_type": "stream",
          "name": "stdout",
          "text": [
            "The variable 'initial_wealth' has a value of 25 and is of the type <class 'int'>.\n"
          ]
        }
      ],
      "source": [
        "# Hard coding a variable\n",
        "\n",
        "w = 25 # what's w\n",
        "\n",
        "wealth = 25 # what wealth?\n",
        "\n",
        "initial_wealth = 25 # now we have clarity\n",
        "\n",
        "print('The variable \\'initial_wealth\\' has a value of {} and is of the type {}.'\n",
        "      .format(initial_wealth, type(initial_wealth)))"
      ]
    },
    {
      "cell_type": "code",
      "execution_count": null,
      "id": "13a32b76",
      "metadata": {
        "colab": {
          "base_uri": "https://localhost:8080/"
        },
        "id": "13a32b76",
        "outputId": "4c8d20a8-687e-4aec-dd88-57df0b05cf02"
      },
      "outputs": [
        {
          "name": "stdout",
          "output_type": "stream",
          "text": [
            "How much money do you have at the start of this game? \n",
            " Please type in a number:40\n"
          ]
        }
      ],
      "source": [
        "###############################################################\n",
        "# Prompt the user to input their initial wealth\n",
        "# and store it in a variable for later use\n",
        "###############################################################\n",
        "\n",
        "initial_wealth = input(\"How much money do you have at the start of this game? \\n Please type in a number:\")"
      ]
    },
    {
      "cell_type": "code",
      "execution_count": null,
      "id": "042670e8",
      "metadata": {
        "scrolled": true,
        "colab": {
          "base_uri": "https://localhost:8080/",
          "height": 35
        },
        "id": "042670e8",
        "outputId": "b6aa8816-1230-4325-d649-339ec428bbbe"
      },
      "outputs": [
        {
          "output_type": "execute_result",
          "data": {
            "text/plain": [
              "'40'"
            ],
            "application/vnd.google.colaboratory.intrinsic+json": {
              "type": "string"
            }
          },
          "metadata": {},
          "execution_count": 3
        }
      ],
      "source": [
        "initial_wealth"
      ]
    },
    {
      "cell_type": "code",
      "execution_count": null,
      "id": "12d03258",
      "metadata": {
        "colab": {
          "base_uri": "https://localhost:8080/"
        },
        "id": "12d03258",
        "outputId": "5040a985-4c2f-4e6b-c565-40112e4257f4"
      },
      "outputs": [
        {
          "output_type": "stream",
          "name": "stdout",
          "text": [
            "The variable 'initial_wealth' has a value of 40 and is of the type <class 'str'>.\n"
          ]
        }
      ],
      "source": [
        "print('The variable \\'initial_wealth\\' has a value of {} and is of the type {}.'\n",
        "      .format(initial_wealth, type(initial_wealth)))"
      ]
    },
    {
      "cell_type": "code",
      "execution_count": null,
      "id": "1836ec9b",
      "metadata": {
        "colab": {
          "base_uri": "https://localhost:8080/"
        },
        "id": "1836ec9b",
        "outputId": "d5225888-d527-4f8b-b130-2b4f1b571c24"
      },
      "outputs": [
        {
          "name": "stdout",
          "output_type": "stream",
          "text": [
            "How much money do you want to wager? \n",
            " Please type in a number:34\n"
          ]
        }
      ],
      "source": [
        "###############################################################\n",
        "# Prompt the user to input the amount they wish to wager\n",
        "# and store it in a variable for later use\n",
        "###############################################################\n",
        "\n",
        "bet_size = input(\"How much money do you want to wager? \\n Please type in a number:\")"
      ]
    },
    {
      "cell_type": "code",
      "execution_count": null,
      "id": "6c5bcc5b",
      "metadata": {
        "colab": {
          "base_uri": "https://localhost:8080/",
          "height": 35
        },
        "id": "6c5bcc5b",
        "outputId": "51cfbb2e-4c44-4136-a603-e5e00177f2f5"
      },
      "outputs": [
        {
          "output_type": "execute_result",
          "data": {
            "text/plain": [
              "'34'"
            ],
            "application/vnd.google.colaboratory.intrinsic+json": {
              "type": "string"
            }
          },
          "metadata": {},
          "execution_count": 6
        }
      ],
      "source": [
        "bet_size"
      ]
    },
    {
      "cell_type": "markdown",
      "id": "4c1172dc",
      "metadata": {
        "id": "4c1172dc"
      },
      "source": [
        "<br>\n",
        "<font size=\"+1\">\n",
        "    <ul>\n",
        "        <li>For modeling purposes, and to compute the player's resulting wealth after a single bet, we will convert the bet size to a fraction the wealth.</li>\n",
        "        <br>\n",
        "        <li>That is, $$\\text{fraction of wealth being bet } = \\frac{\\text{ bet size in dollars }}{\\text{ wealth before the bet }}.$$\n",
        "    </ul>\n",
        "</font>\n",
        "\n",
        "$\\square$"
      ]
    },
    {
      "cell_type": "code",
      "execution_count": null,
      "id": "8eed7fe7",
      "metadata": {
        "scrolled": true,
        "id": "8eed7fe7"
      },
      "outputs": [],
      "source": [
        "fraction_at_risk = int(bet_size) / int(initial_wealth) # this is due to the variable types"
      ]
    },
    {
      "cell_type": "markdown",
      "id": "8053f97e",
      "metadata": {
        "id": "8053f97e"
      },
      "source": [
        "<hr style=\"border: 20px solid black\">"
      ]
    },
    {
      "cell_type": "code",
      "execution_count": null,
      "id": "52ba4f7b",
      "metadata": {
        "id": "52ba4f7b",
        "outputId": "d7611d10-42c8-4070-f630-557b85e88ef8",
        "colab": {
          "base_uri": "https://localhost:8080/"
        }
      },
      "outputs": [
        {
          "name": "stdout",
          "output_type": "stream",
          "text": [
            "How much money do you have at the start of this game? \n",
            " Please type in a number:67\n"
          ]
        }
      ],
      "source": [
        "###############################################################\n",
        "# Prompt the user to input their initial wealth\n",
        "# and store it in a variable for later use\n",
        "###############################################################\n",
        "\n",
        "initial_wealth = float(input(\"How much money do you have at the start of this game? \\n Please type in a number:\"))"
      ]
    },
    {
      "cell_type": "code",
      "execution_count": null,
      "id": "aed5cca4",
      "metadata": {
        "scrolled": true,
        "id": "aed5cca4",
        "outputId": "25ee92c6-56a9-48d1-b1e2-3bed5afd665f",
        "colab": {
          "base_uri": "https://localhost:8080/"
        }
      },
      "outputs": [
        {
          "output_type": "execute_result",
          "data": {
            "text/plain": [
              "67.0"
            ]
          },
          "metadata": {},
          "execution_count": 16
        }
      ],
      "source": [
        "initial_wealth"
      ]
    },
    {
      "cell_type": "code",
      "execution_count": null,
      "id": "5bbdbe43",
      "metadata": {
        "id": "5bbdbe43",
        "outputId": "60715c9a-a6b6-411b-b4f2-e4c91ff5c474",
        "colab": {
          "base_uri": "https://localhost:8080/"
        }
      },
      "outputs": [
        {
          "output_type": "stream",
          "name": "stdout",
          "text": [
            "The variable 'initial_wealth' has a value of 67.0 and is of the type <class 'float'>.\n"
          ]
        }
      ],
      "source": [
        "print('The variable \\'initial_wealth\\' has a value of {} and is of the type {}.'\n",
        "      .format(initial_wealth, type(initial_wealth)))"
      ]
    },
    {
      "cell_type": "code",
      "execution_count": null,
      "id": "f1787771",
      "metadata": {
        "id": "f1787771",
        "outputId": "ee4f5364-148f-46bb-e3a8-fe748c449724",
        "colab": {
          "base_uri": "https://localhost:8080/"
        }
      },
      "outputs": [
        {
          "name": "stdout",
          "output_type": "stream",
          "text": [
            "How much money do you want to wager? \n",
            " Please type in a number:65\n"
          ]
        }
      ],
      "source": [
        "###############################################################\n",
        "# Prompt the user to input the amount they wish to wager\n",
        "# and store it in a variable for later use\n",
        "###############################################################\n",
        "\n",
        "bet_size = float(input(\"How much money do you want to wager? \\n Please type in a number:\"))"
      ]
    },
    {
      "cell_type": "code",
      "execution_count": null,
      "id": "ba5cbab6",
      "metadata": {
        "id": "ba5cbab6",
        "outputId": "7daa59b1-5110-4e85-8209-d781a515149c",
        "colab": {
          "base_uri": "https://localhost:8080/"
        }
      },
      "outputs": [
        {
          "output_type": "execute_result",
          "data": {
            "text/plain": [
              "65.0"
            ]
          },
          "metadata": {},
          "execution_count": 19
        }
      ],
      "source": [
        "bet_size"
      ]
    },
    {
      "cell_type": "markdown",
      "id": "f7e8b901",
      "metadata": {
        "id": "f7e8b901"
      },
      "source": [
        "<br>\n",
        "<font size=\"+1\">\n",
        "    <ul>\n",
        "        <li>For modeling purposes, and to compute the player's resulting wealth after a single bet, we will convert the bet size to a fraction the wealth.</li>\n",
        "        <br>\n",
        "        <li>That is, $$\\text{fraction of wealth being bet } = \\frac{\\text{ bet size in dollars }}{\\text{ wealth before the bet }}.$$\n",
        "    </ul>\n",
        "</font>\n",
        "\n",
        "$\\square$"
      ]
    },
    {
      "cell_type": "code",
      "execution_count": null,
      "id": "0f373dcb",
      "metadata": {
        "id": "0f373dcb",
        "outputId": "8926f65d-93ec-48fc-a6f7-b299d9c3942f",
        "colab": {
          "base_uri": "https://localhost:8080/"
        }
      },
      "outputs": [
        {
          "output_type": "execute_result",
          "data": {
            "text/plain": [
              "0.9701492537313433"
            ]
          },
          "metadata": {},
          "execution_count": 20
        }
      ],
      "source": [
        "fraction_at_risk = bet_size / initial_wealth\n",
        "\n",
        "fraction_at_risk"
      ]
    },
    {
      "cell_type": "markdown",
      "id": "b89e5985",
      "metadata": {
        "id": "b89e5985"
      },
      "source": [
        "$\\require{xcolor}$\n",
        "$\\require{color}$\n",
        "\n",
        "<br>\n",
        "<font size=\"+1\">\n",
        "    <ul>\n",
        "        <li>At this point, we know how much the player is <b>willing</b> and <b>able</b> to bet.</li>\n",
        "        <br>\n",
        "        <li>Next, we have to create the coin toss with the appropriate parameters:</li>\n",
        "        <br>\n",
        "        <ul>\n",
        "            <li>outcomes</li>\n",
        "            <br>\n",
        "            <li>probabilities of the outcomes</li>\n",
        "            <br>\n",
        "        </ul>\n",
        "        <li>There are many ways to define the outcome of the coin flips.</li>\n",
        "        <br>\n",
        "        <ul>\n",
        "            <li>We could say heads or tails,</li>\n",
        "            <br>\n",
        "            <li>or $+1$ and $0$,</li>\n",
        "            <br>\n",
        "            <li>or we can define the <b>rate of return</b> of the payoffs of the associated outcome of the coin flip, which is $+100\\%$ or $-100\\%$.</li>\n",
        "            <br>\n",
        "        </ul>\n",
        "        <br>\n",
        "        <hr style=\"border: 10px solid black\">\n",
        "        $\\rule{500pt}{10pt}$\n",
        "        <br>\n",
        "        <li>It is easiest to directly code the returns of the payoffs because </li>\n",
        "        <br>\n",
        "        <ul>\n",
        "            <li>the terminal wealth can be computed as the initial wealth plus the amount wagered times the return of the gamble,</li>\n",
        "        <br>\n",
        "            <li>that is $$\\small{\\text{ terminal wealth } = \\text{ initial wealth } + {\\color{blue} \\text{ bet size }} \\times \\text{ random return }},$$</li>\n",
        "            <br>\n",
        "            <li>recall $$\\textcolor{blue}{\\text{bet size }} = \\text{ fraction of wealth being bet } \\times \\text{ initial wealth },$$</li>\n",
        "            <br>\n",
        "            <li>therefore $$\\small{\\text{ terminal wealth } = {\\color{red} \\text{ initial wealth }} + \\text{ fraction of wealth being bet } \\times {\\color{red} \\text{ initial wealth }} \\times \\text{ random return }},$$</li>\n",
        "            <br>\n",
        "            <li>this can be written more mathematically as $$ W_1(f) = W_0 + f W_0 r ,$$ which is equivalently $$W_1(f) = W_0 ( 1 + fr).$$</li>\n",
        "            <br>\n",
        "        </ul>\n",
        "        <br>\n",
        "        <hr style=\"border: 10px solid black\">\n",
        "        $\\rule{500pt}{10pt}$\n",
        "        <br>\n",
        "        <li>Recall the game pays $\\$1$ for every dollar at risk if the coin flip is heads, and takes $\\$1$ for every dollar at risk if the coin flip is tails.</li>\n",
        "        <br>\n",
        "        <ul>\n",
        "            <li>This implies the returns of the gamble are $+100\\%$ or $-100\\%$ depending on the probability.</li>\n",
        "            <br>\n",
        "            <li>The coin lands heads $60\\%$ of the time and lands tails $40\\%$ of the time.</li>\n",
        "            <br>\n",
        "        </ul>\n",
        "        <font color=\"blue\"><li style=\"color:blue\"> This is what we have to code to complete a single play of the game.</li></font>\n",
        "        <br>\n",
        "    </ul>\n",
        "</font>\n",
        "\n",
        "$\\square$"
      ]
    },
    {
      "cell_type": "code",
      "execution_count": null,
      "id": "6b61ef08",
      "metadata": {
        "id": "6b61ef08"
      },
      "outputs": [],
      "source": [
        "# Define the returns depending on the outcome of the coin flip\n",
        "return_if_heads = 1\n",
        "\n",
        "return_if_tails = -1"
      ]
    },
    {
      "cell_type": "code",
      "execution_count": null,
      "id": "6519474f",
      "metadata": {
        "id": "6519474f"
      },
      "outputs": [],
      "source": [
        "# Define the probabilties of the outcomes of the coin flip\n",
        "prob_of_heads = 0.6\n",
        "\n",
        "prob_of_tails = 1 - prob_of_heads"
      ]
    },
    {
      "cell_type": "markdown",
      "id": "a3a7feac",
      "metadata": {
        "id": "a3a7feac"
      },
      "source": [
        "<br>\n",
        "<font size=\"+1\">\n",
        "    <ul>\n",
        "        <li>For simplicity, we will simulate a coin toss using a Python package (<a href=\"https://numpy.org/\">Numpy</a>) and one of its methods -  <a href=\"https://numpy.org/doc/stable/reference/random/generated/numpy.random.choice.html\">Choice random number generator</a>.</li>\n",
        "        <br>\n",
        "        <li>For now, it is okay to take this as a black-box without understanding what Numpy is doing or why we chose this random number generator.</li>\n",
        "        <br>\n",
        "    </ul>\n",
        "</font>"
      ]
    },
    {
      "cell_type": "code",
      "execution_count": null,
      "id": "92f62f5c",
      "metadata": {
        "id": "92f62f5c",
        "outputId": "a7319c87-c01b-45c0-d568-43632cfb844f",
        "colab": {
          "base_uri": "https://localhost:8080/"
        }
      },
      "outputs": [
        {
          "output_type": "execute_result",
          "data": {
            "text/plain": [
              "1"
            ]
          },
          "metadata": {},
          "execution_count": 23
        }
      ],
      "source": [
        "#########################################################################\n",
        "# Write code that generates a random number\n",
        "# that we interpret as the random return of our coin flip\n",
        "#########################################################################\n",
        "\n",
        "import numpy as np\n",
        "\n",
        "random_return = np.random.choice([return_if_heads, return_if_tails],\n",
        "                                 p=[prob_of_heads, prob_of_tails])\n",
        "\n",
        "random_return"
      ]
    },
    {
      "cell_type": "markdown",
      "id": "6fe0c005",
      "metadata": {
        "id": "6fe0c005"
      },
      "source": [
        "$\\require{xcolor}$\n",
        "$\\require{color}$\n",
        "\n",
        "<br>\n",
        "<font size=\"+1\">\n",
        "    <ul>\n",
        "        <br>\n",
        "        <hr style=\"border: 10px solid black\">\n",
        "        $\\rule{500pt}{10pt}$\n",
        "        <br>\n",
        "        <li>Finally, we can calculate the resulting wealth of the player based on </li>\n",
        "        <br>\n",
        "        <ul>\n",
        "            <li>their initial wealth,</li>\n",
        "            <br>\n",
        "            <li>how much they wagered, and hence the fraction of their wealth they are betting,</li>\n",
        "            <br>\n",
        "            <li>the outcome of the coin flip.</li>\n",
        "            <br>\n",
        "        </ul>\n",
        "        <li>$$\\small{\\text{ terminal wealth } = {\\color{red} \\text{ initial wealth }} + \\text{ fraction of wealth being bet } \\times {\\color{red} \\text{ initial wealth }} \\times \\text{ random return },}$$</li>\n",
        "        <br>\n",
        "        <li>$$ W_1(f) = {\\color{red} W_0} + f {\\color{red} W_0} r ,$$ $\\iff$ $$W_1(f) = {\\color{red} W_0} ( 1 + fr).$$</li>\n",
        "        <br>\n",
        "    </ul>\n",
        "</font>\n",
        "\n",
        "$\\square$"
      ]
    },
    {
      "cell_type": "code",
      "execution_count": null,
      "id": "86c5a80f",
      "metadata": {
        "id": "86c5a80f",
        "outputId": "aa3b89d0-441a-4ca9-c65d-531b0ff50043",
        "colab": {
          "base_uri": "https://localhost:8080/"
        }
      },
      "outputs": [
        {
          "output_type": "execute_result",
          "data": {
            "text/plain": [
              "132.0"
            ]
          },
          "metadata": {},
          "execution_count": 24
        }
      ],
      "source": [
        "#########################################################################\n",
        "# Compute the terminal wealth resulting from a single play of the game\n",
        "#########################################################################\n",
        "\n",
        "terminal_wealth = initial_wealth * (1 + (fraction_at_risk*random_return))\n",
        "\n",
        "terminal_wealth"
      ]
    },
    {
      "cell_type": "markdown",
      "id": "265a76f6",
      "metadata": {
        "id": "265a76f6"
      },
      "source": [
        "$\\require{xcolor}$\n",
        "$\\require{color}$\n",
        "\n",
        "<br>\n",
        "<font size=\"+1\">\n",
        "    <ul>\n",
        "        <li>Let's collect our code and put it in a single cell.</li>\n",
        "        <br>\n",
        "    </ul>\n",
        "</font>"
      ]
    },
    {
      "cell_type": "code",
      "execution_count": null,
      "id": "1ff02c24",
      "metadata": {
        "id": "1ff02c24",
        "outputId": "3b03b0df-98d1-4da1-f9c8-eba20a284d5d",
        "colab": {
          "base_uri": "https://localhost:8080/"
        }
      },
      "outputs": [
        {
          "output_type": "stream",
          "name": "stdout",
          "text": [
            "How much money do you have at the start of this game? \n",
            " Please type in a number:60\n",
            "\n",
            " How much money do you want to wager? \n",
            " Please type in a number:56\n",
            "\n",
            " The coin flip gave a return of 100 %.\n",
            "\n",
            " You have 116.0 dollars remaining.\n"
          ]
        }
      ],
      "source": [
        "#########################################################################\n",
        "# Prompt the user to input their initial wealth\n",
        "# and store it in a variable for later use\n",
        "#########################################################################\n",
        "\n",
        "initial_wealth = float(input(\"How much money do you have at the start of this game? \\n Please type in a number:\"))\n",
        "\n",
        "#########################################################################\n",
        "# Prompt the user to input the amount they wish to wager\n",
        "# and store it in a variable for later use\n",
        "#########################################################################\n",
        "\n",
        "bet_size = float(input(\"\\n How much money do you want to wager? \\n Please type in a number:\"))\n",
        "\n",
        "#########################################################################\n",
        "# Transform the bet size into a percentage of initial wealth at risk\n",
        "#########################################################################\n",
        "\n",
        "fraction_at_risk = bet_size / initial_wealth\n",
        "\n",
        "#########################################################################\n",
        "# Simulate a random coin flip with the parameters\n",
        "# defined by the rules of the game\n",
        "#########################################################################\n",
        "\n",
        "# Define the returns depending on the outcome of the coin flip\n",
        "return_if_heads = 1\n",
        "return_if_tails = -1\n",
        "\n",
        "# Define the probabilties of the outcomes of the coin flip\n",
        "prob_of_heads = 0.6\n",
        "prob_of_tails = 1 - prob_of_heads\n",
        "\n",
        "# Random coin generator using Numpy\n",
        "import numpy as np\n",
        "random_return = np.random.choice([return_if_heads, return_if_tails],\n",
        "                                 p=[prob_of_heads, prob_of_tails])\n",
        "\n",
        "# Print the results of the coin flip\n",
        "print(\"\\n The coin flip gave a return of {} %.\".format(100*random_return))\n",
        "\n",
        "#########################################################################\n",
        "# Compute the current wealth resulting from a single play of the game\n",
        "#########################################################################\n",
        "current_wealth = initial_wealth * (1 + (fraction_at_risk*random_return))\n",
        "\n",
        "# Print the resulting terminal wealth\n",
        "print(\"\\n You have {} dollars remaining.\".format(round(current_wealth, 2)))"
      ]
    },
    {
      "cell_type": "markdown",
      "id": "86828478",
      "metadata": {
        "id": "86828478"
      },
      "source": [
        "$\\rule{800pt}{20pt}$"
      ]
    },
    {
      "cell_type": "markdown",
      "id": "e334094c",
      "metadata": {
        "id": "e334094c"
      },
      "source": [
        "## <h2>Code Repeated Plays of the Game</h2>\n",
        "<br>\n",
        "<font size=\"+1\">\n",
        "    <ul>\n",
        "        <li>We have coded all of the difficult logic.</li>\n",
        "        <br>\n",
        "        <li>At this point, we have to write code that allows a player to repeatedly play this game with their existing wealth from the previous bet.</li>\n",
        "        <br>\n",
        "        <li>At each stage, the player must decide <b>if</b> they want to continue playing with their current wealth level, <b>if</b> they want to stop playing, or <b>if</b> they must stop playing because they don't have enough capital to continue playing.</li>\n",
        "        <br>\n",
        "        <ul>\n",
        "            <li><b>If</b> you choose to bet, the minimum bet size is $\\$0.50$ and there is no maximum bet size (except for your total wealth as there is no betting on margin).</li>\n",
        "            <br>\n",
        "        </ul>\n",
        "        <font color=\"blue\"><li style=\"color:blue\">Whenever you see <b>if</b> statements, you should think about control flow.</li></font>\n",
        "        <br>\n",
        "    </ul>\n",
        "</font>\n",
        "\n",
        "$\\square$"
      ]
    },
    {
      "cell_type": "code",
      "execution_count": null,
      "id": "326be920",
      "metadata": {
        "scrolled": true,
        "id": "326be920",
        "outputId": "799a7219-ff33-41e2-f29e-dc3dc6ebd93e",
        "colab": {
          "base_uri": "https://localhost:8080/"
        }
      },
      "outputs": [
        {
          "name": "stdout",
          "output_type": "stream",
          "text": [
            "Do you want to play again? \n",
            " Please respond 'Yes' or 'No':yes\n"
          ]
        }
      ],
      "source": [
        "#########################################################################\n",
        "# Is the player's current wealth sufficient to play again?\n",
        "#########################################################################\n",
        "\n",
        "minimum_bet_size = 0.5\n",
        "\n",
        "if current_wealth >= minimum_bet_size:\n",
        "    ###############################################\n",
        "    # Ask the player if they want to play again\n",
        "    ###############################################\n",
        "    continue_playing = input(\"Do you want to play again? \\n Please respond \\'Yes\\' or \\'No\\':\")\n",
        "\n",
        "    ###############################################\n",
        "    # ............\n",
        "    ###############################################\n",
        "\n",
        "else:\n",
        "    #########################################################################\n",
        "    # If  the player doesn't have enough capital to play again, then the game is over.\n",
        "    #########################################################################\n",
        "    print(\"You have reached ruin and do not have enough capital to continue playing.\")"
      ]
    },
    {
      "cell_type": "markdown",
      "id": "ae4f0905",
      "metadata": {
        "id": "ae4f0905"
      },
      "source": [
        "<font size=\"+1\" style=\"color:green\">\n",
        "    <ul>\n",
        "        <font color=\"green\"><li>We need to nest <i>if</i> statements within eachother to create complicated decision-making structures.</li></font>\n",
        "    <br>\n",
        "    </ul>\n",
        "</font>"
      ]
    },
    {
      "cell_type": "code",
      "execution_count": null,
      "id": "1813a8cd",
      "metadata": {
        "id": "1813a8cd",
        "outputId": "3955158d-bb78-452c-956c-38512019d315",
        "colab": {
          "base_uri": "https://localhost:8080/"
        }
      },
      "outputs": [
        {
          "output_type": "stream",
          "name": "stdout",
          "text": [
            "Do you want to play again? \n",
            " Please respond 'Yes' or 'No':yes\n",
            "Need to simulate another play of the game with the current wealth level\n"
          ]
        }
      ],
      "source": [
        "#########################################################################\n",
        "# Is the player's current wealth sufficient to play again?\n",
        "#########################################################################\n",
        "\n",
        "minimum_bet_size = 0.5\n",
        "\n",
        "if current_wealth >= minimum_bet_size:\n",
        "    ###############################################\n",
        "    # Ask the player if they want to play again\n",
        "    ###############################################\n",
        "    continue_playing = input(\"Do you want to play again? \\n Please respond \\'Yes\\' or \\'No\\':\")\n",
        "\n",
        "    # If the player wants to play again, we can reuse our code to simulate another single play of the game.\n",
        "    if continue_playing.lower() == 'yes':\n",
        "            ##############################################\n",
        "            # Simulate another single play of the game\n",
        "            # with the current wealth level\n",
        "            ##############################################\n",
        "        print('Need to simulate another play of the game with the current wealth level')\n",
        "    else:\n",
        "        # Thank the user for playing\n",
        "        print('Thanks for playing, your final wealth is $ {}.'.format(round(current_wealth, 2)))\n",
        "\n",
        "else:\n",
        "    #########################################################################\n",
        "    # If  the player doesn't have enough capital to play again, then the game is over.\n",
        "    #########################################################################\n",
        "    print(\"You have reached ruin and do not have enough capital to continue playing.\")"
      ]
    },
    {
      "cell_type": "code",
      "execution_count": null,
      "id": "c2e803c4",
      "metadata": {
        "id": "c2e803c4",
        "outputId": "c56978ea-d5b2-45e1-c763-3fc32a3edfcc",
        "colab": {
          "base_uri": "https://localhost:8080/"
        }
      },
      "outputs": [
        {
          "output_type": "stream",
          "name": "stdout",
          "text": [
            "Do you want to play again? \n",
            " Please respond 'Yes' or 'No':yes\n",
            "Need to simulate another play of the game with the current wealth level\n",
            "\n",
            " How much money do you want to wager? \n",
            " Please type in a number:60\n",
            "\n",
            " The coin flip gave a return of -100 %.\n",
            "\n",
            " You have 56.0 dollars remaining.\n"
          ]
        }
      ],
      "source": [
        "#########################################################################\n",
        "# Is the player's current wealth sufficient to play again?\n",
        "#########################################################################\n",
        "\n",
        "minimum_bet_size = 0.5\n",
        "\n",
        "if current_wealth >= minimum_bet_size:\n",
        "    ###############################################\n",
        "    # Ask the player if they want to play again\n",
        "    ###############################################\n",
        "    continue_playing = input(\"Do you want to play again? \\n Please respond \\'Yes\\' or \\'No\\':\")\n",
        "\n",
        "    # If the player wants to play again, we can reuse our code to simulate another single play of the game.\n",
        "    if continue_playing.lower() == 'yes':\n",
        "            ##############################################\n",
        "            # Simulate another single play of the game\n",
        "            # with the current wealth level\n",
        "            ##############################################\n",
        "        print('Need to simulate another play of the game with the current wealth level')\n",
        "##################################################################################################################\n",
        "##################################################################################################################\n",
        "        #########################################################################\n",
        "        # The initial wealth for this game is the current wealth\n",
        "        #########################################################################\n",
        "\n",
        "        initial_wealth = current_wealth\n",
        "\n",
        "        #########################################################################\n",
        "        # Prompt the user to input the amount they wish to wager\n",
        "        # and store it in a variable for later use\n",
        "        #########################################################################\n",
        "\n",
        "        bet_size = float(input(\"\\n How much money do you want to wager? \\n Please type in a number:\"))\n",
        "        # Check the player doesn't bet more money than they currently have\n",
        "        if bet_size > initial_wealth:\n",
        "            print('\\n *WARNING* You cannot bet more than your current wealth, which is $ {}.'.format(round(current_wealth, 2)))\n",
        "            bet_size = float(input(\"\\n How much money do you want to wager? \\n Please type in a number:\"))\n",
        "\n",
        "        #########################################################################\n",
        "        # Transform the bet size into a percentage of initial wealth at risk\n",
        "        #########################################################################\n",
        "\n",
        "        fraction_at_risk = bet_size / initial_wealth\n",
        "\n",
        "        #########################################################################\n",
        "        # Simulate a random coin flip with the parameters\n",
        "        # defined by the rules of the game\n",
        "        #########################################################################\n",
        "\n",
        "        # Define the returns depending on the outcome of the coin flip\n",
        "        return_if_heads = 1\n",
        "        return_if_tails = -1\n",
        "\n",
        "        # Define the probabilties of the outcomes of the coin flip\n",
        "        prob_of_heads = 0.6\n",
        "        prob_of_tails = 1 - prob_of_heads\n",
        "\n",
        "        # Random coin generator using Numpy\n",
        "        import numpy as np\n",
        "        random_return = np.random.choice([return_if_heads, return_if_tails],\n",
        "                                         p=[prob_of_heads, prob_of_tails])\n",
        "\n",
        "        # Print the results of the coin flip\n",
        "        print(\"\\n The coin flip gave a return of {} %.\".format(100*random_return))\n",
        "\n",
        "        #########################################################################\n",
        "        # Compute the current wealth resulting from a single play of the game\n",
        "        #########################################################################\n",
        "        current_wealth = initial_wealth * (1 + (fraction_at_risk*random_return))\n",
        "\n",
        "        # Print the resulting terminal wealth\n",
        "        print(\"\\n You have {} dollars remaining.\".format(round(current_wealth, 2)))\n",
        "##################################################################################################################\n",
        "##################################################################################################################\n",
        "    else:\n",
        "        # Thank the user for playing\n",
        "        print('Thanks for playing, your final wealth is $ {}.'.format(round(current_wealth, 2)))\n",
        "\n",
        "else:\n",
        "    #########################################################################\n",
        "    # If  the player doesn't have enough capital to play again, then the game is over.\n",
        "    #########################################################################\n",
        "    print(\"You have reached ruin and do not have enough capital to continue playing.\")"
      ]
    },
    {
      "cell_type": "markdown",
      "id": "d5cfe754",
      "metadata": {
        "id": "d5cfe754"
      },
      "source": [
        "<br>\n",
        "<font size=\"+1\">\n",
        "    <ul>\n",
        "        <li>This allows us to play two rounds of the game, but we want to be able to play an unlimited number of games.</li>\n",
        "        <br>\n",
        "        <li>For this, we need the final programming concept of <b>iteration</b>.</li>\n",
        "        <br>\n",
        "    </ul>\n",
        "</font>"
      ]
    },
    {
      "cell_type": "code",
      "execution_count": null,
      "id": "f5914178",
      "metadata": {
        "id": "f5914178",
        "outputId": "ad3d424e-b4ce-4973-9715-c5d9f1a7b4bc",
        "colab": {
          "base_uri": "https://localhost:8080/"
        }
      },
      "outputs": [
        {
          "output_type": "stream",
          "name": "stdout",
          "text": [
            "Do you want to play again? \n",
            " Please respond 'Yes' or 'No':yes\n",
            "We need to add the code for subsequent plays.\n"
          ]
        }
      ],
      "source": [
        "###############################\n",
        "# Add code for initial play\n",
        "###############################\n",
        "total_number_of_plays = 1\n",
        "minimum_bet_size = 0.5\n",
        "continue_playing = input(\"Do you want to play again? \\n Please respond \\'Yes\\' or \\'No\\':\")\n",
        "\n",
        "\n",
        "while (current_wealth >= minimum_bet_size) \\\n",
        "& (continue_playing.lower() == 'yes') \\\n",
        "&(total_number_of_plays < 500):\n",
        "\n",
        "    ############\n",
        "    # Do stuff...\n",
        "    ############\n",
        "    print('We need to add the code for subsequent plays.')\n",
        "    # break allows you to exit a loop\n",
        "    break\n"
      ]
    },
    {
      "cell_type": "markdown",
      "id": "ee720ae2",
      "metadata": {
        "id": "ee720ae2"
      },
      "source": [
        "<br>\n",
        "<font size=\"+1\">\n",
        "    <ul>\n",
        "        <li>We will now add code for the initial play of the game outside of the while loop, and for all subsequent play of the game inside the while loop.</li>\n",
        "        <br>\n",
        "    </ul>\n",
        "</font>"
      ]
    },
    {
      "cell_type": "code",
      "execution_count": null,
      "id": "eff4ca8f",
      "metadata": {
        "scrolled": false,
        "id": "eff4ca8f",
        "outputId": "3405ad34-7a30-411c-8d13-0203f629cacf",
        "colab": {
          "base_uri": "https://localhost:8080/"
        }
      },
      "outputs": [
        {
          "output_type": "stream",
          "name": "stdout",
          "text": [
            "How much money do you have at the start of this game? \n",
            " Please type in a number:78\n",
            "\n",
            " How much money do you want to wager? \n",
            " Please type in a number:87\n",
            "\n",
            " The coin flip gave a return of 100 %.\n",
            "\n",
            " You have 165.0 dollars remaining.\n",
            "Do you want to play again? \n",
            " Please respond 'Yes' or 'No':yes\n",
            "\n",
            " How much money do you want to wager? \n",
            " Please type in a number:78\n",
            "\n",
            " The coin flip gave a return of 100 %.\n",
            "\n",
            " You have 243.0 dollars remaining.\n",
            "Do you want to play again? \n",
            " Please respond 'Yes' or 'No':yes\n",
            "\n",
            " How much money do you want to wager? \n",
            " Please type in a number:300\n",
            "\n",
            " *WARNING* You cannot bet more than your current wealth, which is $ 243.0.\n",
            "\n",
            " How much money do you want to wager? \n",
            " Please type in a number:76\n",
            "\n",
            " The coin flip gave a return of 100 %.\n",
            "\n",
            " You have 319.0 dollars remaining.\n",
            "Do you want to play again? \n",
            " Please respond 'Yes' or 'No':no\n",
            "Thanks for playing, your final wealth is $ 319.0.\n"
          ]
        }
      ],
      "source": [
        "#########################################################################\n",
        "# Prompt the user to input their initial wealth\n",
        "# and store it in a variable for later use\n",
        "#########################################################################\n",
        "\n",
        "initial_wealth = float(input(\"How much money do you have at the start of this game? \\n Please type in a number:\"))\n",
        "\n",
        "#########################################################################\n",
        "# Prompt the user to input the amount they wish to wager\n",
        "# and store it in a variable for later use\n",
        "#########################################################################\n",
        "\n",
        "bet_size = float(input(\"\\n How much money do you want to wager? \\n Please type in a number:\"))\n",
        "\n",
        "#########################################################################\n",
        "# Transform the bet size into a percentage of initial wealth at risk\n",
        "#########################################################################\n",
        "\n",
        "fraction_at_risk = bet_size / initial_wealth\n",
        "\n",
        "#########################################################################\n",
        "# Simulate a random coin flip with the parameters\n",
        "# defined by the rules of the game\n",
        "#########################################################################\n",
        "\n",
        "# Define the returns depending on the outcome of the coin flip\n",
        "return_if_heads = 1\n",
        "return_if_tails = -1\n",
        "\n",
        "# Define the probabilties of the outcomes of the coin flip\n",
        "prob_of_heads = 0.6\n",
        "prob_of_tails = 1 - prob_of_heads\n",
        "\n",
        "# Random coin generator using Numpy\n",
        "import numpy as np\n",
        "random_return = np.random.choice([return_if_heads, return_if_tails],\n",
        "                                 p=[prob_of_heads, prob_of_tails])\n",
        "\n",
        "# Print the results of the coin flip\n",
        "print(\"\\n The coin flip gave a return of {} %.\".format(100*random_return))\n",
        "\n",
        "#########################################################################\n",
        "# Compute the current wealth resulting from a single play of the game\n",
        "#########################################################################\n",
        "current_wealth = initial_wealth * (1 + (fraction_at_risk*random_return))\n",
        "\n",
        "# Print the resulting terminal wealth\n",
        "print(\"\\n You have {} dollars remaining.\".format(round(current_wealth, 2)))\n",
        "\n",
        "\n",
        "total_number_of_plays = 1\n",
        "minimum_bet_size = 0.5\n",
        "continue_playing = input(\"Do you want to play again? \\n Please respond \\'Yes\\' or \\'No\\':\")\n",
        "\n",
        "while (current_wealth >= minimum_bet_size) \\\n",
        "& (continue_playing.lower() == 'yes') \\\n",
        "&(total_number_of_plays < 500):\n",
        "    #########################################################################\n",
        "    # Is the player's current wealth sufficient to play again?\n",
        "    #########################################################################\n",
        "\n",
        "    if current_wealth >= minimum_bet_size:\n",
        "        ###############################################\n",
        "        # Ask the player if they want to play again\n",
        "        ###############################################\n",
        "        if total_number_of_plays > 1:\n",
        "            continue_playing = input(\"Do you want to play again? \\n Please respond \\'Yes\\' or \\'No\\':\")\n",
        "\n",
        "        # If the player wants to play again, we can reuse our code to simulate another single play of the game.\n",
        "        if continue_playing.lower() == 'yes':\n",
        "                ##############################################\n",
        "                # Simulate another single play of the game\n",
        "                # with the current wealth level\n",
        "                ##############################################\n",
        "    ##################################################################################################################\n",
        "    ##################################################################################################################\n",
        "            #########################################################################\n",
        "            # The initial wealth for this game is the current wealth\n",
        "            #########################################################################\n",
        "\n",
        "            initial_wealth = current_wealth\n",
        "\n",
        "            #########################################################################\n",
        "            # Prompt the user to input the amount they wish to wager\n",
        "            # and store it in a variable for later use\n",
        "            #########################################################################\n",
        "\n",
        "            bet_size = float(input(\"\\n How much money do you want to wager? \\n Please type in a number:\"))\n",
        "            # Check the player doesn't bet more money than they currently have\n",
        "            while bet_size > initial_wealth:\n",
        "                print('\\n *WARNING* You cannot bet more than your current wealth, which is $ {}.'.format(round(current_wealth, 2)))\n",
        "                bet_size = float(input(\"\\n How much money do you want to wager? \\n Please type in a number:\"))\n",
        "\n",
        "            #########################################################################\n",
        "            # Transform the bet size into a percentage of initial wealth at risk\n",
        "            #########################################################################\n",
        "\n",
        "            fraction_at_risk = bet_size / initial_wealth\n",
        "\n",
        "            #########################################################################\n",
        "            # Simulate a random coin flip with the parameters\n",
        "            # defined by the rules of the game\n",
        "            #########################################################################\n",
        "\n",
        "            # Define the returns depending on the outcome of the coin flip\n",
        "            return_if_heads = 1\n",
        "            return_if_tails = -1\n",
        "\n",
        "            # Define the probabilties of the outcomes of the coin flip\n",
        "            prob_of_heads = 0.6\n",
        "            prob_of_tails = 1 - prob_of_heads\n",
        "\n",
        "            # Random coin generator using Numpy\n",
        "            import numpy as np\n",
        "            random_return = np.random.choice([return_if_heads, return_if_tails],\n",
        "                                             p=[prob_of_heads, prob_of_tails])\n",
        "\n",
        "            # Print the results of the coin flip\n",
        "            print(\"\\n The coin flip gave a return of {} %.\".format(100*random_return))\n",
        "\n",
        "            #########################################################################\n",
        "            # Compute the current wealth resulting from a single play of the game\n",
        "            #########################################################################\n",
        "            current_wealth = initial_wealth * (1 + (fraction_at_risk*random_return))\n",
        "\n",
        "            # Print the resulting terminal wealth\n",
        "            print(\"\\n You have {} dollars remaining.\".format(round(current_wealth, 2)))\n",
        "            # Update the total number of plays\n",
        "            total_number_of_plays = total_number_of_plays+1\n",
        "    ##################################################################################################################\n",
        "    ##################################################################################################################\n",
        "        else:\n",
        "            # Thank the user for playing\n",
        "            print('Thanks for playing, your final wealth is $ {}.'.format(round(current_wealth, 2)))\n",
        "\n",
        "    else:\n",
        "        #########################################################################\n",
        "        # If  the player doesn't have enough capital to play again, then the game is over.\n",
        "        #########################################################################\n",
        "        print(\"You have reached ruin and do not have enough capital to continue playing.\")\n"
      ]
    },
    {
      "cell_type": "markdown",
      "id": "2b090064",
      "metadata": {
        "id": "2b090064"
      },
      "source": [
        "<br>\n",
        "<font size=\"+1\">\n",
        "    <ul>\n",
        "        <li>Let's start again with a single play of the game.</li>\n",
        "        <br>\n",
        "        <li>Recall, the goal was to write a program that</li>\n",
        "        <br>\n",
        "        <ul>\n",
        "            <li>asks a player how much they want to bet,</li>\n",
        "            <br>\n",
        "            <li>generate a coin flip with the stated parameters,</li>\n",
        "            <br>\n",
        "            <li>return the outcome of the coin flip to the player and their resulting wealth.</li>\n",
        "            <br>\n",
        "        </ul>\n",
        "    </ul>\n",
        "</font>"
      ]
    },
    {
      "cell_type": "markdown",
      "id": "2592f9e1",
      "metadata": {
        "id": "2592f9e1"
      },
      "source": [
        "### <h3>Prompt Player For Initial Wealth</h3>\n",
        "<br>"
      ]
    },
    {
      "cell_type": "code",
      "execution_count": null,
      "id": "3033d976",
      "metadata": {
        "id": "3033d976"
      },
      "outputs": [],
      "source": [
        "def how_much_are_you_able_to_bet():\n",
        "    # Prompt the user to input their initial wealth\n",
        "    initial_wealth = float(input(\"How much money do you have at the start of this game? \\n Please type in a number:\"))\n",
        "\n",
        "    return initial_wealth"
      ]
    },
    {
      "cell_type": "code",
      "execution_count": null,
      "id": "c4827228",
      "metadata": {
        "id": "c4827228",
        "outputId": "2dcf4da1-33a8-464d-8805-dbdcc3ad2970",
        "colab": {
          "base_uri": "https://localhost:8080/"
        }
      },
      "outputs": [
        {
          "name": "stdout",
          "output_type": "stream",
          "text": [
            "How much money do you have at the start of this game? \n",
            " Please type in a number:89\n"
          ]
        }
      ],
      "source": [
        "initial_wealth = how_much_are_you_able_to_bet()"
      ]
    },
    {
      "cell_type": "markdown",
      "id": "1207d26c",
      "metadata": {
        "id": "1207d26c"
      },
      "source": [
        "### <h3>Prompt Player For Bet Size</h3>\n",
        "<br>"
      ]
    },
    {
      "cell_type": "code",
      "execution_count": null,
      "id": "76584615",
      "metadata": {
        "id": "76584615"
      },
      "outputs": [],
      "source": [
        "def how_much_are_you_willing_to_bet(current_wealth):\n",
        "    # Prompt the user to input the amount they wish to wager\n",
        "    bet_size = float(input(\"\\n How much money do you want to wager? \\n Please type in a number:\"))\n",
        "\n",
        "    # Check the player doesn't bet more money than they currently have\n",
        "    while bet_size > current_wealth:\n",
        "        print('\\n *WARNING* You cannot bet more than your current wealth, which is $ {}.'.format(round(current_wealth, 2)))\n",
        "        bet_size = float(input(\"\\n How much money do you want to wager? \\n Please type in a number:\"))\n",
        "\n",
        "    return bet_size"
      ]
    },
    {
      "cell_type": "code",
      "execution_count": null,
      "id": "e1b9b04e",
      "metadata": {
        "id": "e1b9b04e",
        "outputId": "a858b996-bb04-4e93-a3a8-5795b80e610f",
        "colab": {
          "base_uri": "https://localhost:8080/"
        }
      },
      "outputs": [
        {
          "name": "stdout",
          "output_type": "stream",
          "text": [
            "\n",
            " How much money do you want to wager? \n",
            " Please type in a number:78\n"
          ]
        }
      ],
      "source": [
        "bet_size = how_much_are_you_willing_to_bet(current_wealth=initial_wealth)"
      ]
    },
    {
      "cell_type": "markdown",
      "id": "62a804ea",
      "metadata": {
        "id": "62a804ea"
      },
      "source": [
        "### <h3>Convert the Bet Size to a Fraction of Current Wealth</h3>\n",
        "<br>"
      ]
    },
    {
      "cell_type": "code",
      "execution_count": null,
      "id": "2c3c3a25",
      "metadata": {
        "id": "2c3c3a25"
      },
      "outputs": [],
      "source": [
        "def fraction_of_current_wealth(bet_size, current_wealth):\n",
        "    #########################################################################\n",
        "    # Transform the bet size into a percentage of initial wealth at risk\n",
        "    #########################################################################\n",
        "    fraction_at_risk = bet_size / current_wealth\n",
        "\n",
        "    return fraction_at_risk\n"
      ]
    },
    {
      "cell_type": "code",
      "execution_count": null,
      "id": "84276bdd",
      "metadata": {
        "id": "84276bdd"
      },
      "outputs": [],
      "source": [
        "f = fraction_of_current_wealth(bet_size=bet_size, current_wealth=initial_wealth)"
      ]
    },
    {
      "cell_type": "code",
      "execution_count": null,
      "id": "62a3a1cd",
      "metadata": {
        "id": "62a3a1cd",
        "outputId": "8e35a587-8455-49ca-a7dd-fcc6f669ddea",
        "colab": {
          "base_uri": "https://localhost:8080/"
        }
      },
      "outputs": [
        {
          "output_type": "execute_result",
          "data": {
            "text/plain": [
              "0.8764044943820225"
            ]
          },
          "metadata": {},
          "execution_count": 43
        }
      ],
      "source": [
        "f"
      ]
    },
    {
      "cell_type": "markdown",
      "id": "5be683dc",
      "metadata": {
        "id": "5be683dc"
      },
      "source": [
        "### <h3>Simulate a Single Coin Flip</h3>\n",
        "<br>"
      ]
    },
    {
      "cell_type": "code",
      "execution_count": null,
      "id": "296959e6",
      "metadata": {
        "id": "296959e6"
      },
      "outputs": [],
      "source": [
        "def coin_flip(returns, probabilities):\n",
        "    #########################################################################\n",
        "    # Simulate a random coin flip with the parameters\n",
        "    # defined by the rules of the game\n",
        "    #########################################################################\n",
        "\n",
        "    # Define the returns depending on the outcome of the coin flip\n",
        "    return_if_heads = returns[0]\n",
        "    return_if_tails = returns[1]\n",
        "\n",
        "    # Define the probabilties of the outcomes of the coin flip\n",
        "    prob_of_heads = probabilities[0]\n",
        "    prob_of_tails = probabilities[1]\n",
        "\n",
        "    # Random coin generator using Numpy\n",
        "    import numpy as np\n",
        "    random_return = np.random.choice([return_if_heads, return_if_tails],\n",
        "                                     p=[prob_of_heads, prob_of_tails])\n",
        "\n",
        "    # Print the results of the coin flip\n",
        "    print(\"\\n The coin flip gave a return of {} %.\".format(100*random_return))\n",
        "\n",
        "    return random_return"
      ]
    },
    {
      "cell_type": "code",
      "execution_count": null,
      "id": "59727852",
      "metadata": {
        "id": "59727852",
        "outputId": "294b5a32-06e9-436a-d04d-28e76a7e6b92",
        "colab": {
          "base_uri": "https://localhost:8080/"
        }
      },
      "outputs": [
        {
          "output_type": "stream",
          "name": "stdout",
          "text": [
            "\n",
            " The coin flip gave a return of 100 %.\n"
          ]
        }
      ],
      "source": [
        "random_return = coin_flip(returns=[+1, -1], probabilities=[0.6, 0.4])"
      ]
    },
    {
      "cell_type": "code",
      "execution_count": null,
      "id": "35522e24",
      "metadata": {
        "id": "35522e24",
        "outputId": "b90877ed-69d2-469f-f688-9984090a8b95",
        "colab": {
          "base_uri": "https://localhost:8080/"
        }
      },
      "outputs": [
        {
          "output_type": "execute_result",
          "data": {
            "text/plain": [
              "1"
            ]
          },
          "metadata": {},
          "execution_count": 46
        }
      ],
      "source": [
        "random_return"
      ]
    },
    {
      "cell_type": "markdown",
      "id": "03d51603",
      "metadata": {
        "id": "03d51603"
      },
      "source": [
        "### <h3>Compute the Current Wealth</h3>\n",
        "<br>"
      ]
    },
    {
      "cell_type": "code",
      "execution_count": null,
      "id": "ed7fc090",
      "metadata": {
        "id": "ed7fc090"
      },
      "outputs": [],
      "source": [
        "def wealth(current_wealth, fraction_at_risk, coin_return):\n",
        "    #########################################################################\n",
        "    # Compute the current wealth resulting from a single play of the game\n",
        "    #########################################################################\n",
        "    new_wealth = current_wealth * (1 + (fraction_at_risk*coin_return))\n",
        "\n",
        "    # Print the resulting terminal wealth\n",
        "    print(\"\\n You have {} dollars remaining.\".format(round(new_wealth, 2)))\n",
        "\n",
        "    return new_wealth\n"
      ]
    },
    {
      "cell_type": "code",
      "execution_count": null,
      "id": "293de05c",
      "metadata": {
        "id": "293de05c",
        "outputId": "7308f33a-4923-42fb-eb02-78c17ad9218e",
        "colab": {
          "base_uri": "https://localhost:8080/"
        }
      },
      "outputs": [
        {
          "output_type": "stream",
          "name": "stdout",
          "text": [
            "\n",
            " You have 167.0 dollars remaining.\n"
          ]
        }
      ],
      "source": [
        "current_wealth = wealth(current_wealth=initial_wealth, fraction_at_risk=f, coin_return=random_return)"
      ]
    },
    {
      "cell_type": "code",
      "execution_count": null,
      "id": "fa1d921f",
      "metadata": {
        "id": "fa1d921f",
        "outputId": "77a5af93-6f0c-4983-91e5-e831d0a99992",
        "colab": {
          "base_uri": "https://localhost:8080/"
        }
      },
      "outputs": [
        {
          "output_type": "execute_result",
          "data": {
            "text/plain": [
              "80.0"
            ]
          },
          "metadata": {},
          "execution_count": 55
        }
      ],
      "source": [
        "current_wealth"
      ]
    },
    {
      "cell_type": "markdown",
      "id": "576fdd4f",
      "metadata": {
        "id": "576fdd4f"
      },
      "source": [
        "### <h3>Generate a Single Play of the Game</h3>\n",
        "<br>"
      ]
    },
    {
      "cell_type": "code",
      "execution_count": null,
      "id": "e7d5ff99",
      "metadata": {
        "id": "e7d5ff99"
      },
      "outputs": [],
      "source": [
        "def single_play_of_game(total_number_of_plays, minimum_bet_size, current_wealth='N/A'):\n",
        "    # 1. Initialize wealth for the single game depending on how many times the player has played already.\n",
        "    if total_number_of_plays == 1:\n",
        "        # 1a. If the player has just started, they need to be asked about their current wealth\n",
        "        initial_wealth = how_much_are_you_able_to_bet()\n",
        "    elif total_number_of_plays > 1:\n",
        "        # 1b. If the player has been playing, they need to be asked if they want to play again\n",
        "        # Ask the player if they want to play again\n",
        "        continue_playing = input(\"Do you want to play again? \\n Please respond \\'Yes\\' or \\'No\\':\")\n",
        "        # If the player wants to play again, set their initial wealth to the player's current wealth\n",
        "        if continue_playing.lower() == 'yes':\n",
        "            initial_wealth = current_wealth\n",
        "        else:\n",
        "            # Thank the user for playing\n",
        "            print('\\n Thanks for playing, your final wealth is $ {}.'.format(round(current_wealth, 2)))\n",
        "            return None\n",
        "    # 2. Ask the player how much they want to bet and make sure it doesn't exceed their current wealth\n",
        "    bet_size = how_much_are_you_willing_to_bet(current_wealth=initial_wealth)\n",
        "    # 3. Convert the bet size to a fraction of current wealth\n",
        "    f = fraction_of_current_wealth(bet_size=bet_size, current_wealth=initial_wealth)\n",
        "    # 4. Generate a random return by simulating a random coin toss\n",
        "    random_return = coin_flip(returns=[+1, -1], probabilities=[0.6, 0.4])\n",
        "    # 5. Compute the wealth new wealth given the current wealth, fractional exposure, and the random return outcome\n",
        "    current_wealth = wealth(current_wealth=initial_wealth, fraction_at_risk=f, coin_return=random_return)\n",
        "    # 6. Return the updated wealth as the output of a single play of the game\n",
        "    return current_wealth"
      ]
    },
    {
      "cell_type": "code",
      "execution_count": null,
      "id": "851a3d03",
      "metadata": {
        "id": "851a3d03",
        "outputId": "71701799-0d6e-44e0-cdc1-2f1d167c53e7",
        "colab": {
          "base_uri": "https://localhost:8080/"
        }
      },
      "outputs": [
        {
          "output_type": "stream",
          "name": "stdout",
          "text": [
            "Do you want to play again? \n",
            " Please respond 'Yes' or 'No':yes\n",
            "\n",
            " How much money do you want to wager? \n",
            " Please type in a number:89\n",
            "\n",
            " *WARNING* You cannot bet more than your current wealth, which is $ 40.\n",
            "\n",
            " How much money do you want to wager? \n",
            " Please type in a number:40\n",
            "\n",
            " The coin flip gave a return of 100 %.\n",
            "\n",
            " You have 80.0 dollars remaining.\n"
          ]
        }
      ],
      "source": [
        "current_wealth = single_play_of_game(total_number_of_plays=2, minimum_bet_size=0.5, current_wealth=40)"
      ]
    },
    {
      "cell_type": "code",
      "execution_count": null,
      "id": "e47e1141",
      "metadata": {
        "scrolled": true,
        "id": "e47e1141",
        "outputId": "6fe3460e-6376-4a8f-8308-099d6b743798",
        "colab": {
          "base_uri": "https://localhost:8080/"
        }
      },
      "outputs": [
        {
          "output_type": "execute_result",
          "data": {
            "text/plain": [
              "80.0"
            ]
          },
          "metadata": {},
          "execution_count": 52
        }
      ],
      "source": [
        "current_wealth"
      ]
    },
    {
      "cell_type": "markdown",
      "id": "8e3eb985",
      "metadata": {
        "id": "8e3eb985"
      },
      "source": [
        "### <h3>Generate Repeated Plays of the Game</h3>\n",
        "<br>"
      ]
    },
    {
      "cell_type": "code",
      "execution_count": null,
      "id": "7ebf6ce0",
      "metadata": {
        "id": "7ebf6ce0"
      },
      "outputs": [],
      "source": [
        "def repeated_play_of_game(total_number_of_plays=1, minimum_bet_size=0.5, continue_playing='Yes'):\n",
        "    # Initialize current_wealth\n",
        "    current_wealth = single_play_of_game(total_number_of_plays=total_number_of_plays,\n",
        "                                        minimum_bet_size=minimum_bet_size)\n",
        "    # Increment the total number of plays\n",
        "    total_number_of_plays = total_number_of_plays + 1\n",
        "\n",
        "    # Continue to play the game until the player hits ruin, wants to stop playing, or plays 500 times in a row.\n",
        "    while (current_wealth >= minimum_bet_size) & (continue_playing.lower() == 'yes') & (total_number_of_plays < 500):\n",
        "        # Simulate a single play of the game\n",
        "        current_wealth = single_play_of_game(total_number_of_plays=total_number_of_plays,\n",
        "                                             minimum_bet_size=minimum_bet_size,\n",
        "                                             current_wealth=current_wealth)\n",
        "        total_number_of_plays = total_number_of_plays + 1\n",
        "        # Handles the case of the player wanting to stop playing\n",
        "        if current_wealth == None:\n",
        "            # Exit the loop\n",
        "            break\n",
        "    # Prevents a bug coming from the the game stopping due to the player wanting to stop\n",
        "    try:\n",
        "        return print('Thanks for playing, your final wealth is $ {}.'.format(round(current_wealth, 2)))\n",
        "    except:\n",
        "        return None"
      ]
    },
    {
      "cell_type": "code",
      "execution_count": null,
      "id": "61953a61",
      "metadata": {
        "id": "61953a61",
        "outputId": "c9e3c342-c030-4d59-fa52-5ce622b1bd44",
        "colab": {
          "base_uri": "https://localhost:8080/"
        }
      },
      "outputs": [
        {
          "output_type": "stream",
          "name": "stdout",
          "text": [
            "How much money do you have at the start of this game? \n",
            " Please type in a number:40\n",
            "\n",
            " How much money do you want to wager? \n",
            " Please type in a number:40\n",
            "\n",
            " The coin flip gave a return of 100 %.\n",
            "\n",
            " You have 80.0 dollars remaining.\n",
            "Do you want to play again? \n",
            " Please respond 'Yes' or 'No':yes\n",
            "\n",
            " How much money do you want to wager? \n",
            " Please type in a number:68\n",
            "\n",
            " The coin flip gave a return of -100 %.\n",
            "\n",
            " You have 12.0 dollars remaining.\n",
            "Do you want to play again? \n",
            " Please respond 'Yes' or 'No':no\n",
            "\n",
            " Thanks for playing, your final wealth is $ 12.0.\n"
          ]
        }
      ],
      "source": [
        "repeated_play_of_game()"
      ]
    },
    {
      "cell_type": "markdown",
      "id": "0e2dfd33",
      "metadata": {
        "id": "0e2dfd33"
      },
      "source": [
        "<br>\n",
        "<font size=\"+1\">\n",
        "    <ul>\n",
        "        <font color=\"red\"><li style=\"color:red\">This is far from bug-free code, but it is a working prototype.</li></font>\n",
        "        <br>\n",
        "    </ul>\n",
        "</font>"
      ]
    }
  ],
  "metadata": {
    "hide_input": false,
    "kernelspec": {
      "display_name": "Python 3 (ipykernel)",
      "language": "python",
      "name": "python3"
    },
    "language_info": {
      "codemirror_mode": {
        "name": "ipython",
        "version": 3
      },
      "file_extension": ".py",
      "mimetype": "text/x-python",
      "name": "python",
      "nbconvert_exporter": "python",
      "pygments_lexer": "ipython3",
      "version": "3.8.8"
    },
    "toc": {
      "base_numbering": 1,
      "nav_menu": {},
      "number_sections": true,
      "sideBar": true,
      "skip_h1_title": false,
      "title_cell": "Table of Contents",
      "title_sidebar": "Contents",
      "toc_cell": true,
      "toc_position": {
        "height": "calc(100% - 180px)",
        "left": "10px",
        "top": "150px",
        "width": "341.306px"
      },
      "toc_section_display": true,
      "toc_window_display": true
    },
    "colab": {
      "provenance": [],
      "toc_visible": true
    }
  },
  "nbformat": 4,
  "nbformat_minor": 5
}